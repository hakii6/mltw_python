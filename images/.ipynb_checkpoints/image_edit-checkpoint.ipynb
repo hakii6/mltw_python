{
 "cells": [
  {
   "cell_type": "code",
   "execution_count": 5,
   "metadata": {},
   "outputs": [
    {
     "name": "stdout",
     "output_type": "stream",
     "text": [
      "劇場時光_Screenshot_2020.06.14_16.59.10.jpg\n",
      "劇場時光_Screenshot_2020.06.14_17.00.26.jpg\n",
      "劇場時光_Screenshot_2020.06.14_17.01.40.jpg\n",
      "劇場時光_Screenshot_2020.06.14_17.01.47.jpg\n",
      "劇場時光_Screenshot_2020.06.14_17.02.01.jpg\n",
      "劇場時光_Screenshot_2020.06.14_17.02.08.jpg\n",
      "劇場時光_Screenshot_2020.06.14_17.02.12.jpg\n",
      "劇場時光_Screenshot_2020.06.14_17.02.18.jpg\n",
      "劇場時光_Screenshot_2020.06.14_17.02.23.jpg\n",
      "劇場時光_Screenshot_2020.06.14_17.02.27.jpg\n",
      "劇場時光_Screenshot_2020.06.14_17.02.33.jpg\n",
      "劇場時光_Screenshot_2020.06.14_17.02.37.jpg\n",
      "劇場時光_Screenshot_2020.06.14_17.02.43.jpg\n",
      "劇場時光_Screenshot_2020.06.14_17.02.50.jpg\n",
      "劇場時光_Screenshot_2020.06.14_17.02.54.jpg\n",
      "劇場時光_Screenshot_2020.06.14_17.02.58.jpg\n",
      "劇場時光_Screenshot_2020.06.14_17.03.01.jpg\n",
      "劇場時光_Screenshot_2020.06.14_17.03.07.jpg\n",
      "劇場時光_Screenshot_2020.06.14_17.03.19.jpg\n",
      "劇場時光_Screenshot_2020.06.14_17.03.22.jpg\n",
      "劇場時光_Screenshot_2020.06.14_17.03.26.jpg\n",
      "劇場時光_Screenshot_2020.06.14_17.03.31.jpg\n",
      "劇場時光_Screenshot_2020.06.14_17.03.42.jpg\n",
      "劇場時光_Screenshot_2020.06.14_17.03.48.jpg\n",
      "劇場時光_Screenshot_2020.06.14_17.03.52.jpg\n",
      "劇場時光_Screenshot_2020.06.14_17.03.57.jpg\n",
      "劇場時光_Screenshot_2020.06.14_17.04.01.jpg\n",
      "劇場時光_Screenshot_2020.06.14_17.04.06.jpg\n",
      "劇場時光_Screenshot_2020.06.14_17.04.10.jpg\n",
      "劇場時光_Screenshot_2020.06.14_17.04.14.jpg\n",
      "劇場時光_Screenshot_2020.06.14_17.04.18.jpg\n",
      "劇場時光_Screenshot_2020.06.14_17.04.22.jpg\n",
      "劇場時光_Screenshot_2020.06.14_17.04.26.jpg\n",
      "劇場時光_Screenshot_2020.06.14_17.04.30.jpg\n",
      "劇場時光_Screenshot_2020.06.14_17.04.35.jpg\n",
      "劇場時光_Screenshot_2020.06.14_17.04.39.jpg\n",
      "劇場時光_Screenshot_2020.06.14_17.04.44.jpg\n",
      "劇場時光_Screenshot_2020.06.14_17.04.48.jpg\n",
      "劇場時光_Screenshot_2020.06.14_17.04.51.jpg\n",
      "劇場時光_Screenshot_2020.06.14_17.04.56.jpg\n",
      "劇場時光_Screenshot_2020.06.14_17.05.00.jpg\n",
      "劇場時光_Screenshot_2020.06.14_17.05.04.jpg\n",
      "劇場時光_Screenshot_2020.06.14_17.05.08.jpg\n",
      "劇場時光_Screenshot_2020.06.14_17.05.13.jpg\n",
      "劇場時光_Screenshot_2020.06.14_17.05.17.jpg\n",
      "劇場時光_Screenshot_2020.06.14_17.05.21.jpg\n",
      "劇場時光_Screenshot_2020.06.14_17.05.26.jpg\n",
      "劇場時光_Screenshot_2020.06.14_17.05.31.jpg\n",
      "劇場時光_Screenshot_2020.06.14_17.05.36.jpg\n"
     ]
    }
   ],
   "source": [
    "from PIL import Image \n",
    "\n",
    "count = 0\n",
    "for i in range(1440 , 1530):\n",
    "    name = 'IMG_' + str(i)+'.PNG'\n",
    "    try:\n",
    "        im = Image.open(name)\n",
    "        count = count + 1\n",
    "    except:\n",
    "        continue\n",
    "    name = str(count) + '.jpg'\n",
    "    im1 = im.crop((8 , 208 , 742 , 1126))\n",
    "    im1.save(name)\n",
    "\n",
    "\n",
    "# im1 = im.crop\n",
    "# im1.show()\n"
   ]
  }
 ],
 "metadata": {
  "kernelspec": {
   "display_name": "Python 3",
   "language": "python",
   "name": "python3"
  },
  "language_info": {
   "codemirror_mode": {
    "name": "ipython",
    "version": 3
   },
   "file_extension": ".py",
   "mimetype": "text/x-python",
   "name": "python",
   "nbconvert_exporter": "python",
   "pygments_lexer": "ipython3",
   "version": "3.7.6"
  }
 },
 "nbformat": 4,
 "nbformat_minor": 4
}
