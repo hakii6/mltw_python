{
 "cells": [
  {
   "cell_type": "code",
   "execution_count": 8,
   "metadata": {},
   "outputs": [
    {
     "name": "stdout",
     "output_type": "stream",
     "text": [
      "b'{\"data\":{\"error\":\"You are not the owner of album \\'GamaFu3\\', which means you can\\'t add images to it. For anonymous albums, use the album deletehash.\",\"request\":\"\\\\/3\\\\/image\",\"method\":\"POST\"},\"success\":false,\"status\":400}'\n"
     ]
    }
   ],
   "source": [
    "import requests\n",
    "\n",
    "url = \"https://api.imgur.com/3/album/GamaFu3/add\"\n",
    "\n",
    "payload = {'image': 'https://i.imgur.com/aJLfrND.png' , 'album' : 'GamaFu3'}\n",
    "files = [\n",
    "\n",
    "]\n",
    "headers = {\n",
    "    'Authorization': 'Client-ID dbebffb942ec1ca'\n",
    "}\n",
    "\n",
    "response = requests.request(\"POST\", url, headers=headers, data = payload, files = files , )\n",
    "                            \n",
    "print(response.text.encode('utf8'))"
   ]
  }
 ],
 "metadata": {
  "kernelspec": {
   "display_name": "Python 3",
   "language": "python",
   "name": "python3"
  },
  "language_info": {
   "codemirror_mode": {
    "name": "ipython",
    "version": 3
   },
   "file_extension": ".py",
   "mimetype": "text/x-python",
   "name": "python",
   "nbconvert_exporter": "python",
   "pygments_lexer": "ipython3",
   "version": "3.7.6"
  }
 },
 "nbformat": 4,
 "nbformat_minor": 4
}
