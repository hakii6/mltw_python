{
 "cells": [
  {
   "cell_type": "code",
   "execution_count": 23,
   "metadata": {},
   "outputs": [],
   "source": [
    "from PIL import Image \n",
    "from os import listdir\n",
    "from os.path import isfile, isdir, join\n",
    "\n",
    "\n",
    "\n",
    "\n",
    "mypath = ('C:/Users/LEPA/MLTD/images/Song_images/')\n",
    "files = listdir(mypath)\n",
    "count = 0\n",
    "for f in files:\n",
    "    name1 = str(count) + 'A.jpg'\n",
    "    name2 = str(count) + 'B.jpg'\n",
    "    try:\n",
    "        im = Image.open(f)\n",
    "    except:\n",
    "        continue\n",
    "    count = count + 1\n",
    "\n",
    "    im1 = im.crop((121 , 66 , 772 , 387))\n",
    "    im2 = im.crop((132 , 111 , 341 , 320))\n",
    "    im1.save(name1)\n",
    "    im2.save(name2)\n",
    "\n"
   ]
  }
 ],
 "metadata": {
  "kernelspec": {
   "display_name": "Python 3",
   "language": "python",
   "name": "python3"
  },
  "language_info": {
   "codemirror_mode": {
    "name": "ipython",
    "version": 3
   },
   "file_extension": ".py",
   "mimetype": "text/x-python",
   "name": "python",
   "nbconvert_exporter": "python",
   "pygments_lexer": "ipython3",
   "version": "3.7.6"
  }
 },
 "nbformat": 4,
 "nbformat_minor": 4
}
