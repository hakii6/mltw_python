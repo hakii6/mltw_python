{
 "cells": [
  {
   "cell_type": "code",
   "execution_count": 59,
   "metadata": {},
   "outputs": [
    {
     "name": "stdout",
     "output_type": "stream",
     "text": [
      "336 13536\n",
      "papara\n"
     ]
    }
   ],
   "source": [
    "from PIL import Image\n",
    "import numpy as np\n",
    "\n",
    "im = Image.open('aaaaa.png').convert('L')\n",
    "w , h = im.size\n",
    "\n",
    "\n",
    "\n",
    "print(w,h)\n",
    "\n",
    "\n",
    "\n",
    "temp = []\n",
    "new_matrix = []\n",
    "matrix = np.array(im)\n",
    "m = np.hsplit(matrix , 21)\n",
    "for i in m:\n",
    "    new_matrix.append(i)\n",
    "    \n",
    "arr =  []\n",
    "ans_matrix = []\n",
    "for j in range(0 , 846):\n",
    "    ans_matrix.append([])\n",
    "    for i in range(0 , 21):\n",
    "        ans_matrix[j].append(0)\n",
    "        \n",
    "        \n",
    "for i in range(0 , 21):\n",
    "    temp = np.vsplit(new_matrix[i] , 846)\n",
    "    for j in range(0 , 846):\n",
    "        count = 0\n",
    "        for m in temp[j]:\n",
    "            for n in m:\n",
    "                count = n + count       \n",
    "        ans_matrix[j][i] = count\n",
    "\n",
    "\n",
    "# print(ans_matrix)\n",
    "ans = np.array(ans_matrix)\n",
    "\n",
    "new_image = Image.fromarray(ans)\n",
    "\n",
    "new_image.save('nnn.png')\n",
    "# for j in range(0 , 846):\n",
    "#     temp = np.vsplit(m[i] , 846)\n",
    "#     new_matrix.append([])\n",
    "#     for j in range(0 , 846):\n",
    "#         new_matrix[i].append(temp[j])\n",
    "            \n",
    "        \n",
    "        \n",
    "\n",
    "\n",
    "print('papara')"
   ]
  },
  {
   "cell_type": "code",
   "execution_count": 121,
   "metadata": {},
   "outputs": [
    {
     "name": "stdout",
     "output_type": "stream",
     "text": [
      "[29, 30, 344, 345, 414, 415]\n",
      "0\n",
      "[74, 75, 119, 120, 164, 165, 209, 210, 254, 255, 299, 300]\n"
     ]
    }
   ],
   "source": [
    "from PIL import Image\n",
    "import numpy as np\n",
    "\n",
    "im = Image.open('aaa.png')\n",
    "w , h =im.size\n",
    "\n",
    "arr = np.array(im)\n",
    "start_line = []\n",
    "flag = 0\n",
    "br = 0\n",
    "\n",
    "\n",
    "\n",
    "top = 0\n",
    "\n",
    "for i in range(0 , 300):\n",
    "    \n",
    "    if(br):\n",
    "        break\n",
    "    \n",
    "    for j in range(0 , np.size(arr , 1)):\n",
    "        if(arr[i][j] == [0 , 0 , 0 , 255]).all():\n",
    "            \n",
    "            for k in range(0 , 300):\n",
    "                if (arr[i  + k][j] != [0 , 0 , 0 , 255]).any():\n",
    "                    flag = 1\n",
    "                    break\n",
    "\n",
    "            if(flag == 0):\n",
    "                if j not in start_line:\n",
    "                    br = 1\n",
    "                    top = i\n",
    "                    start_line.append(j)\n",
    "            else:\n",
    "                flag = 0\n",
    "\n",
    "    if(br):\n",
    "        break                \n",
    "\n",
    "br = 0\n",
    "pos = []\n",
    "print(start_line)\n",
    "print(top)\n",
    "for i in range(3, 300):\n",
    "    for j in range(start_line[0] , start_line[len(start_line) - 1]):\n",
    "        if(arr[i][j] == [0 , 0 , 0 , 43]).all():\n",
    "            br = 1\n",
    "            pos.append(j)\n",
    "\n",
    "    if(br):\n",
    "        break\n",
    "        \n",
    "print(pos)"
   ]
  }
 ],
 "metadata": {
  "kernelspec": {
   "display_name": "Python 3",
   "language": "python",
   "name": "python3"
  },
  "language_info": {
   "codemirror_mode": {
    "name": "ipython",
    "version": 3
   },
   "file_extension": ".py",
   "mimetype": "text/x-python",
   "name": "python",
   "nbconvert_exporter": "python",
   "pygments_lexer": "ipython3",
   "version": "3.7.6"
  }
 },
 "nbformat": 4,
 "nbformat_minor": 4
}
