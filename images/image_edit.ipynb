{
 "cells": [
  {
   "cell_type": "code",
   "execution_count": 1,
   "metadata": {},
   "outputs": [],
   "source": [
    "from PIL import Image \n",
    "\n",
    "count = 0\n",
    "for i in range(1440 , 1530):\n",
    "    name = 'IMG_' + str(i)+'.PNG'\n",
    "    try:\n",
    "        im = Image.open(name)\n",
    "        count = count + 1\n",
    "    except:\n",
    "        continue\n",
    "    name = str(count) + '.jpg'\n",
    "    im1 = im.crop((8 , 208 , 742 , 1126))\n",
    "    im1.save(name)\n",
    "\n",
    "\n",
    "# im1 = im.crop\n",
    "# im1.show()\n"
   ]
  }
 ],
 "metadata": {
  "kernelspec": {
   "display_name": "Python 3",
   "language": "python",
   "name": "python3"
  },
  "language_info": {
   "codemirror_mode": {
    "name": "ipython",
    "version": 3
   },
   "file_extension": ".py",
   "mimetype": "text/x-python",
   "name": "python",
   "nbconvert_exporter": "python",
   "pygments_lexer": "ipython3",
   "version": "3.7.6"
  }
 },
 "nbformat": 4,
 "nbformat_minor": 4
}
