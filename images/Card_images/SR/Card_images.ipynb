{
 "cells": [
  {
   "cell_type": "code",
   "execution_count": 1,
   "metadata": {},
   "outputs": [
    {
     "name": "stdout",
     "output_type": "stream",
     "text": [
      "papara\n"
     ]
    }
   ],
   "source": [
    "from PIL import Image \n",
    "from os import listdir\n",
    "from os.path import isfile, isdir, join\n",
    "\n",
    "\n",
    "\n",
    "\n",
    "mypath = ('C:/Users/LEPA/MLTD/images/Card_images/')\n",
    "files = listdir(mypath)\n",
    "count = 0\n",
    "for f in files:\n",
    "    try:\n",
    "        im = Image.open(f)\n",
    "    except:\n",
    "        continue\n",
    "    count = count + 1\n",
    "\n",
    "    name = str(count) + '.jpg'\n",
    "\n",
    "    im1 = im.crop((8 , 208 , 742 , 1126))\n",
    "    im1.save(name)\n",
    "    \n",
    "print('papara')\n",
    "\n"
   ]
  }
 ],
 "metadata": {
  "kernelspec": {
   "display_name": "Python 3",
   "language": "python",
   "name": "python3"
  },
  "language_info": {
   "codemirror_mode": {
    "name": "ipython",
    "version": 3
   },
   "file_extension": ".py",
   "mimetype": "text/x-python",
   "name": "python",
   "nbconvert_exporter": "python",
   "pygments_lexer": "ipython3",
   "version": "3.7.6"
  }
 },
 "nbformat": 4,
 "nbformat_minor": 4
}
