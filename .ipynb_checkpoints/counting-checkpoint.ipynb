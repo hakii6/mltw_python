{
 "cells": [
  {
   "cell_type": "code",
   "execution_count": 8,
   "metadata": {},
   "outputs": [
    {
     "name": "stdout",
     "output_type": "stream",
     "text": [
      "[0, 1, 2, 3, 4, 5, 6, 7, 8, 9, 10, 11, 12, 13, 14, 15, 16, 17, 18, 19, 20, 21, 22, 23, 24, 25, 26, 27, 28, 29, 30, 31, 32, 33, 34, 36, 37, 38, 39, 40, 41, 42, 43, 44, 45, 46, 47, 48, 50, 51, 52, 53, 54, 55, 56, 57, 58, 59, 60, 61, 63, 65, 66, 67, 68, 69, 71, 72, 73, 74, 75, 76, 77, 78, 79, 80, 81, 82, 83, 86, 87, 88, 89, 90, 91, 92, 93, 94, 95, 96, 100, 101, 102, 103, 104, 106, 107, 108, 109, 110, 112, 114, 115, 116, 117, 118, 121, 122, 123, 125, 127, 129, 130, 131, 135, 136, 137, 138, 139, 141, 142, 143, 144, 145, 150, 151, 152, 153, 156, 157, 158, 164, 165, 166, 171, 172, 174, 176, 178, 179, 180, 185, 187, 191, 193, 199, 200, 201, 206, 207, 214, 215, 220, 228, 236, 242, 249, 263]\n"
     ]
    }
   ],
   "source": [
    "import json\n",
    "\n",
    "combine = []\n",
    "\n",
    "for i in range(0 , 10000):\n",
    "    combine.append([0 , 0 , 0 , 0 , 0])\n",
    "    \n",
    "\n",
    "\n",
    "\n",
    "\n",
    "\n",
    "for E in range(20 , -1 , -1):\n",
    "    for D in range(20 , -1 , -1):\n",
    "        for C in range(20 , -1 , -1):\n",
    "            for B in range(20 , -1 , -1):\n",
    "                for A in range(20 , -1 , -1):\n",
    "\n",
    "                    total =35 * A + 49 * B + 62 * C + 64 * D + 85 * E\n",
    "                    if( combine[total] == [0 , 0 , 0 , 0 , 0] ):\n",
    "                        combine[total] = [A , B , C , D , E]\n",
    "                        \n",
    "                        \n",
    "                        \n",
    "fail = []\n",
    "point = {}\n",
    "for i in range(0 , 2000):\n",
    "    attr = {}\n",
    "    if combine[i] == [0, 0, 0, 0, 0]:\n",
    "        fail.append(i)\n",
    "    else:\n",
    "        attr[\"MM\"] = combine[4]\n",
    "        attr[\"6M\"] = combine[3]\n",
    "        attr[\"2M+\"] = combine[2]\n",
    "        attr[\"4M\"] = combine[1]\n",
    "        attr[\"2M\"] = combine[0]\n",
    "        point[i] = attr\n",
    "print(fail)\n",
    "with open('theater.json', 'w') as outfile:\n",
    "    json.dump(point, outfile)"
   ]
  },
  {
   "cell_type": "code",
   "execution_count": null,
   "metadata": {},
   "outputs": [],
   "source": [
    "import json\n",
    "\n",
    "combine = []\n",
    "\n",
    "for i in range(0 , 20000):\n",
    "    combine.append({0, 0, 0, 0, 0, 0, 0, 0})\n",
    "    \n",
    "\n",
    "\n",
    "\n",
    "\n",
    "\n",
    "for D in range(10 , -1 , -1):\n",
    "    for D2 in range(10 , -1 , -1):\n",
    "        for C in range(10 , -1 , -1):\n",
    "            for C2 in range(10 , -1 , -1):\n",
    "                for B in range(10 , -1 , -1):\n",
    "                    for B2 in range(10 , -1 , -1):\n",
    "                        for A in range(10 , -1 , -1):\n",
    "                            for A2 in range(10 , -1 , -1):\n",
    "\n",
    "                                total = 58 * A2 + 70 * A + 77 * B2 + 93 * B + 96 * C2 + 116 * C + 116 * D2 + 140 * D\n",
    "                                if( combine[total] == [0, 0, 0, 0, 0, 0, 0, 0] ):\n",
    "                                    combine[total] = [A2, A, B2, B, C2, C, D2, D]\n",
    "\n",
    "                        \n",
    "fail = []\n",
    "point = {}\n",
    "\n",
    "for i in range(0 , 2000):\n",
    "    attr = {}\n",
    "    if combine[i] == [0, 0, 0, 0, 0, 0, 0, 0]:\n",
    "        fail.append(i)\n",
    "    else:\n",
    "        attr[\"MM\"] = combine[7]\n",
    "        attr[\"MM-\"] = combine[6]\n",
    "        attr[\"6M\"] = combine[5]\n",
    "        attr[\"6M-\"] = combine[4]\n",
    "        attr[\"4M\"] = combine[3]\n",
    "        attr[\"4M-\"] = combine[2]\n",
    "        attr[\"2M\"] = combine[1]\n",
    "        attr[\"2M-\"] = combine[0]\n",
    "        point[i] = attr\n",
    "        \n",
    "print(fail)\n",
    "with open('tour.json', 'w') as outfile:\n",
    "    json.dump(point, outfile)\n"
   ]
  }
 ],
 "metadata": {
  "kernelspec": {
   "display_name": "Python 3",
   "language": "python",
   "name": "python3"
  },
  "language_info": {
   "codemirror_mode": {
    "name": "ipython",
    "version": 3
   },
   "file_extension": ".py",
   "mimetype": "text/x-python",
   "name": "python",
   "nbconvert_exporter": "python",
   "pygments_lexer": "ipython3",
   "version": "3.7.6"
  }
 },
 "nbformat": 4,
 "nbformat_minor": 4
}
