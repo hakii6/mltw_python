{
 "cells": [
  {
   "cell_type": "code",
   "execution_count": null,
   "metadata": {},
   "outputs": [],
   "source": [
    "import MySQLdb\n",
    "import cv2\n",
    "import requests\n",
    "import urllib.parse\n",
    "from bs4 import BeautifulSoup\n",
    "from urllib.parse import urljoin\n",
    "import datetime\n",
    "\n",
    "time1 = datetime.datetime.now()\n",
    "\n",
    "\n",
    "\n",
    "connection = MySQLdb.connect(host = \"127.0.0.1\" , user = \"root\" , password = \"zxcv2587\", db = 'test' , charset = 'utf8') \n",
    "cursor = connection.cursor()\n",
    "\n",
    "cursor.execute('SELECT `id` , `image` FROM `mltd`.`gachas` WHERE 1')\n",
    "q = cursor.fetchall()\n",
    "cursor.execute('SELECT `id` FROM `mltd`.`images` WHERE 1')\n",
    "m = cursor.fetchall()\n",
    "count = len(m)\n",
    "for gacha in q:\n",
    "    count = count + 1\n",
    "    print(gacha)\n",
    "    image_id = count\n",
    "    imageable_id = gacha[0]\n",
    "    imageable_type = 'App\\Gacha'\n",
    "    image = gacha[1]\n",
    "    \n",
    "    cursor.execute('''\n",
    "    INSERT INTO `test`.`images_test`(`id` , `imageable_id` , `imageable_type` , `image` , `description` ,`validation`)\n",
    "    VALUES(%s , %s , %s , %s , %s , %s)''' ,\n",
    "    (image_id , imageable_id , imageable_type , image , 'main' , 1))\n",
    "\n",
    "\n",
    "\n",
    "\n",
    "\n",
    "\n",
    "\n",
    "\n",
    "\n",
    "\n",
    "\n",
    "connection.commit()\n",
    "cursor.close()\n",
    "connection.close()\n",
    "time2 = datetime.datetime.now()\n",
    "print(time1)\n",
    "print(time2)\n",
    "print('papara')"
   ]
  }
 ],
 "metadata": {
  "kernelspec": {
   "display_name": "Python 3",
   "language": "python",
   "name": "python3"
  },
  "language_info": {
   "codemirror_mode": {
    "name": "ipython",
    "version": 3
   },
   "file_extension": ".py",
   "mimetype": "text/x-python",
   "name": "python",
   "nbconvert_exporter": "python",
   "pygments_lexer": "ipython3",
   "version": "3.7.6"
  }
 },
 "nbformat": 4,
 "nbformat_minor": 4
}
