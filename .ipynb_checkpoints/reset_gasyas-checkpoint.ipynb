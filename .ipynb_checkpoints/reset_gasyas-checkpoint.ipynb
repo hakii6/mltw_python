{
 "cells": [
  {
   "cell_type": "code",
   "execution_count": 1,
   "metadata": {},
   "outputs": [
    {
     "name": "stdout",
     "output_type": "stream",
     "text": [
      "2020-06-07 16:18:07.886516\n",
      "2020-06-07 16:18:08.027524\n",
      "papara\n"
     ]
    }
   ],
   "source": [
    "import MySQLdb\n",
    "import cv2\n",
    "import requests\n",
    "import urllib.parse\n",
    "from bs4 import BeautifulSoup\n",
    "from urllib.parse import urljoin\n",
    "import datetime\n",
    "\n",
    "time1 = datetime.datetime.now()\n",
    "\n",
    "\n",
    "\n",
    "connection = MySQLdb.connect(host = \"127.0.0.1\" , user = \"root\" , password = \"zxcv2587\", db = 'test' , charset = 'utf8') \n",
    "cursor = connection.cursor()\n",
    "\n",
    "\n",
    "\n",
    "\n",
    "\n",
    "jp_date = ['2020-02-29' , '2020' , '2019' , '2018' , '2017']\n",
    "tw_date = ['2022-02-28' , '2022' , '2021' , '2020' , '2019']\n",
    "for i in range(0 , len(jp_date)):\n",
    "    cursor.execute('UPDATE gasyas_test SET start_date = REPLACE(start_date , %s , %s) WHERE 1' , (jp_date[i] , tw_date[i]))\n",
    "    cursor.execute('UPDATE gasyas_test SET end_date = REPLACE(end_date , %s , %s) WHERE 1' , (jp_date[i] , tw_date[i]))\n",
    "\n",
    "\n",
    "\n",
    "\n",
    "\n",
    "jp_name = ['ガシャ' , 'タイプ限定' , 'フェス限定' , 'アイドルの日常']\n",
    "tw_name = ['轉蛋' , '類型限定' , '百萬祭典' ,'偶像的日常']\n",
    "for i in range(0 , len(jp_name)):\n",
    "    cursor.execute('UPDATE gasyas_test SET name_tw = REPLACE(name_tw , %s , %s) WHERE 1' , (jp_name[i] , tw_name[i]))\n",
    "\n",
    "\n",
    "\n",
    "\n",
    "\n",
    "connection.commit()\n",
    "cursor.close()\n",
    "connection.close()\n",
    "time2 = datetime.datetime.now()\n",
    "print(time1)\n",
    "print(time2)\n",
    "print('papara')"
   ]
  }
 ],
 "metadata": {
  "kernelspec": {
   "display_name": "Python 3",
   "language": "python",
   "name": "python3"
  },
  "language_info": {
   "codemirror_mode": {
    "name": "ipython",
    "version": 3
   },
   "file_extension": ".py",
   "mimetype": "text/x-python",
   "name": "python",
   "nbconvert_exporter": "python",
   "pygments_lexer": "ipython3",
   "version": "3.7.6"
  }
 },
 "nbformat": 4,
 "nbformat_minor": 4
}
