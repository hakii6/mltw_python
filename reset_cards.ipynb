{
 "cells": [
  {
   "cell_type": "code",
   "execution_count": 1,
   "metadata": {},
   "outputs": [
    {
     "name": "stdout",
     "output_type": "stream",
     "text": [
      "2020-06-11 03:32:49.728998\n",
      "2020-06-11 03:32:50.242027\n",
      "papara\n"
     ]
    }
   ],
   "source": [
    "import MySQLdb\n",
    "import cv2\n",
    "import requests\n",
    "import urllib.parse\n",
    "from bs4 import BeautifulSoup\n",
    "from urllib.parse import urljoin\n",
    "import datetime\n",
    "\n",
    "time1 = datetime.datetime.now()\n",
    "\n",
    "\n",
    "\n",
    "connection = MySQLdb.connect(host = \"127.0.0.1\" , user = \"root\" , password = \"zxcv2587\", db = 'test' , charset = 'utf8') \n",
    "cursor = connection.cursor()\n",
    "\n",
    "\n",
    "\n",
    "\n",
    "# cursor.execute('SELECT `id` , `name_jp` FROM `test`.`idols_ori`')\n",
    "# q = cursor.fetchall()\n",
    "\n",
    "\n",
    "\n",
    "# for i in q:\n",
    "#     cursor.execute('UPDATE `test`.`cards_ori` SET `idol_id` = %s WHERE `idol` = %s' , (i[0] , i[1]))\n",
    "\n",
    "\n",
    "# jp_date = ['2020-02-29' , '2020' , '2019' , '2018' , '2017']\n",
    "# tw_date = ['2022-02-28' , '2022' , '2021' , '2020' , '2019']\n",
    "# for i in range(0 , len(jp_date)):\n",
    "#     cursor.execute('UPDATE mltd.cards SET date = REPLACE(date , %s , %s) WHERE 1' , (jp_date[i] , tw_date[i]))\n",
    "\n",
    "# cursor.execute('SELECT `name_jp` , `name_tw` FROM `test`.`idols_test`')\n",
    "# q = cursor.fetchall()\n",
    "\n",
    "# for i in q:\n",
    "#     print(i[0])\n",
    "#     print(i[1])\n",
    "    \n",
    "#     cursor.execute('UPDATE mltd.cards SET name_tw = REPLACE(name_tw , %s , %s) WHERE 1' , (i[0] , i[1]))\n",
    "\n",
    "\n",
    "\n",
    "\n",
    "\n",
    "jp_skill =['コンボボーナス' , 'オーバークロック' , 'コンボ継続' , 'スコアアップ' , 'ダブルブースト' , 'ダメージガード' ,'マルチアップ' ,'ライフ回復' , '判定強化']\n",
    "tw_skill =['Combo Bonus' , 'Overclock' , '續行Combo' , '分數提升' , 'Double Boost' , '傷害無效' ,'Multi Up' ,'體力回復' , '判定強化']\n",
    "\n",
    "for i in range(0 , len(jp_skill)):\n",
    "    \n",
    "    cursor.execute('UPDATE `test`.`cards_test` SET `skill_type` = %s WHERE `skill_type` LIKE %s' , (tw_skill[i] , '%' + jp_skill[i] + '%'))\n",
    "\n",
    "\n",
    "\n",
    "connection.commit()\n",
    "cursor.close()\n",
    "connection.close()\n",
    "time2 = datetime.datetime.now()\n",
    "print(time1)\n",
    "print(time2)\n",
    "print('papara')"
   ]
  }
 ],
 "metadata": {
  "kernelspec": {
   "display_name": "Python 3",
   "language": "python",
   "name": "python3"
  },
  "language_info": {
   "codemirror_mode": {
    "name": "ipython",
    "version": 3
   },
   "file_extension": ".py",
   "mimetype": "text/x-python",
   "name": "python",
   "nbconvert_exporter": "python",
   "pygments_lexer": "ipython3",
   "version": "3.7.6"
  }
 },
 "nbformat": 4,
 "nbformat_minor": 4
}
