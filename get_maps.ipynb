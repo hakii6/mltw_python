{
 "cells": [
  {
   "cell_type": "code",
   "execution_count": 65,
   "metadata": {},
   "outputs": [
    {
     "name": "stdout",
     "output_type": "stream",
     "text": [
      "2020-06-07 22:49:53.804977\n",
      "2020-06-07 22:49:55.213058\n",
      "papara\n"
     ]
    }
   ],
   "source": [
    "import MySQLdb\n",
    "import cv2\n",
    "import requests\n",
    "import urllib.parse\n",
    "from bs4 import BeautifulSoup\n",
    "from urllib.parse import urljoin\n",
    "import datetime\n",
    "\n",
    "time1 = datetime.datetime.now()\n",
    "\n",
    "\n",
    "\n",
    "\n",
    "def get_songs(url):\n",
    "    \n",
    "    req = requests()\n",
    "    \n",
    "\n",
    "\n",
    "\n",
    "\n",
    "\n",
    "\n",
    "\n",
    "\n",
    "\n",
    "\n",
    "\n",
    "\n",
    "\n",
    "url = 'https://imasml-theater-wiki.gamerch.com/%E5%A4%A9%E6%B5%B7%E6%98%A5%E9%A6%99'\n",
    "get_songs(url)\n",
    "\n",
    "\n",
    "\n",
    "\n",
    "time2 = datetime.datetime.now()\n",
    "print(time1)\n",
    "print(time2)\n",
    "print('papara')"
   ]
  }
 ],
 "metadata": {
  "kernelspec": {
   "display_name": "Python 3",
   "language": "python",
   "name": "python3"
  },
  "language_info": {
   "codemirror_mode": {
    "name": "ipython",
    "version": 3
   },
   "file_extension": ".py",
   "mimetype": "text/x-python",
   "name": "python",
   "nbconvert_exporter": "python",
   "pygments_lexer": "ipython3",
   "version": "3.7.6"
  }
 },
 "nbformat": 4,
 "nbformat_minor": 2
}
