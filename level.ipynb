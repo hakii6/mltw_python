{
 "cells": [
  {
   "cell_type": "code",
   "execution_count": 2,
   "metadata": {},
   "outputs": [
    {
     "name": "stdout",
     "output_type": "stream",
     "text": [
      "s\n"
     ]
    }
   ],
   "source": [
    "import MySQLdb\n",
    "import cv2\n",
    "\n",
    "connection = MySQLdb.connect(host = \"127.0.0.1\" , user = \"root\" , password = 'zxcv2587', db = 'test' , charset = 'utf8') \n",
    "\n",
    "cursor = connection.cursor()\n",
    "\n",
    "\n",
    "\n",
    "count = 0\n",
    "exp = 0\n",
    "\n",
    "db = cursor.execute('''\n",
    "CREATE TABLE `test`.`level`(\n",
    "`等級` INT(11) NOT NULL, \n",
    "`活力上限` INT(11)NOT NULL, \n",
    "`同僚上限` INT(11) NOT NULL, \n",
    "`升等所需經驗值` INT(11) NOT NULL, \n",
    "`累計經驗值` INT(11) NOT NULL,\n",
    "`備註` VARCHAR(255) CHARACTER SET utf8 COLLATE utf8_bin NULL DEFAULT NULL) ENGINE = InnoDB\n",
    "''')\n",
    "\n",
    "count = 0\n",
    "exp = 50\n",
    "lv = 1\n",
    "energy = 60\n",
    "friends = 49\n",
    "\n",
    "db = cursor.execute('INSERT INTO `test`.`level` (`等級` , `活力上限` , `同僚上限` , `升等所需經驗值` , `累計經驗值` , `備註`) VALUES (%s , %s , %s , %s , %s , %s)' , ('0' , '0' , '0' , '0' , '0' ,''))\n",
    "\n",
    "for lv in range(1 , 401):\n",
    "    \n",
    "    if lv <= 151:\n",
    "        \n",
    "        if lv % 3 == 1:\n",
    "            \n",
    "            friends = friends + 1\n",
    "    \n",
    "    \n",
    "    if lv <= 60:\n",
    "    \n",
    "        energy = (lv - 1) % 2 + energy\n",
    "        \n",
    "    elif lv <= 150:\n",
    "        \n",
    "        if lv % 3 == 0:\n",
    "            \n",
    "            energy = energy + 1\n",
    "    \n",
    "    else:\n",
    "        \n",
    "        if lv % 4 == 2:\n",
    "            \n",
    "            energy = energy + 1\n",
    "        \n",
    "    \n",
    "    db = cursor.execute('INSERT INTO `test`.`level` (`等級` , `活力上限` , `同僚上限` , `升等所需經驗值` , `累計經驗值` , `備註`) VALUES (%s , %s , %s , %s , %s , %s)' , (lv , energy , friends , exp , count ,''))\n",
    "    count = count + exp\n",
    "    exp = exp + 100\n",
    "\n",
    "\n",
    "\n",
    "\n",
    "\n",
    "\n",
    "\n",
    "\n",
    "\n",
    "\n",
    "\n",
    " \n",
    "connection.commit()\n",
    "\n",
    "cursor.close()\n",
    "connection.close()\n",
    "print('s')"
   ]
  }
 ],
 "metadata": {
  "kernelspec": {
   "display_name": "Python 3",
   "language": "python",
   "name": "python3"
  },
  "language_info": {
   "codemirror_mode": {
    "name": "ipython",
    "version": 3
   },
   "file_extension": ".py",
   "mimetype": "text/x-python",
   "name": "python",
   "nbconvert_exporter": "python",
   "pygments_lexer": "ipython3",
   "version": "3.7.6"
  }
 },
 "nbformat": 4,
 "nbformat_minor": 2
}
