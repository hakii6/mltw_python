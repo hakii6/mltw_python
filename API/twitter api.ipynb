{
 "cells": [
  {
   "cell_type": "code",
   "execution_count": 5,
   "metadata": {},
   "outputs": [],
   "source": [
    "import requests\n",
    "import json\n",
    "import tweepy\n",
    "import csv\n",
    "\n",
    "\n",
    "\n",
    "consumer_key = \"8faVTnbL0hCLKmIXPdgs5gXeb\"\n",
    "consumer_secret = \"rnqKeXbg1XdwbsISKrVXwkGQR7cfYaws2E4XZevbaJikMTOrdg\"\n",
    "access_token = \"1171638353315471360-APB2gNSkvXp7dbVVyLLGffPHSRK3wd\"\n",
    "access_token_secret = \"cFg4f0qiqvBNdsX4tubYP8nxITGHbQGKDJXvtZTUpvO8b\"\n",
    "\n",
    "auth = tweepy.OAuthHandler(consumer_key, consumer_secret)\n",
    "auth.set_access_token(access_token, access_token_secret)\n",
    "\n",
    "\n",
    "\n",
    "api = tweepy.API(auth)\n",
    "ori = api.user_timeline('imasml_theater' , count = 200 , tweet_mode='extended' , since_id=1255375330249592832)\n",
    "\n",
    "\n",
    "de = ['in_reply_to_status_id' , 'in_reply_to_status_id_str' ,'in_reply_to_user_id' , 'in_reply_to_user_id_str','in_reply_to_screen_name']\n",
    "de = de + ['geo' , 'coordinates' , 'place' , 'contributors' , 'is_quote_status' , 'retweet_count' , 'favorite_count']\n",
    "de = de + ['retweeted' , 'lang' , 'favorited' , 'display_text_range' , 'id_str' , 'truncated' , 'source']\n",
    "ent = []\n",
    "\n",
    "\n",
    "data = {}\n",
    "for temp in ori:\n",
    "    temp_dict = {}\n",
    "    temp = temp._json\n",
    "    \n",
    "\n",
    "    \n",
    "    for i in temp:\n",
    "        if i =='extended_entities':\n",
    "            for m in temp[i]['media']:\n",
    "                temp_dict['media_url_https'] = m['media_url_https']\n",
    "                break\n",
    "        else:\n",
    "            if i =='created_at' or i == 'id' or i == 'full_text':\n",
    "                temp_dict[i] = temp[i]\n",
    "                \n",
    "    data[temp['created_at'][4:]] = temp_dict\n",
    "        \n",
    "with open ('data.json' , 'w' , encoding='utf-8') as json_file:\n",
    "    json.dump(data , json_file , ensure_ascii=False)\n",
    "\n",
    "with open ('data.txt' , 'w' , encoding='utf-8') as json_file:\n",
    "    json.dump(data , json_file , ensure_ascii=False)\n",
    "\n",
    "\n"
   ]
  }
 ],
 "metadata": {
  "kernelspec": {
   "display_name": "Python 3",
   "language": "python",
   "name": "python3"
  },
  "language_info": {
   "codemirror_mode": {
    "name": "ipython",
    "version": 3
   },
   "file_extension": ".py",
   "mimetype": "text/x-python",
   "name": "python",
   "nbconvert_exporter": "python",
   "pygments_lexer": "ipython3",
   "version": "3.7.6"
  }
 },
 "nbformat": 4,
 "nbformat_minor": 4
}
