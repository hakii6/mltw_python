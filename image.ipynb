{
 "cells": [
  {
   "cell_type": "code",
   "execution_count": 4,
   "metadata": {
    "scrolled": true
   },
   "outputs": [
    {
     "data": {
      "text/plain": [
       "True"
      ]
     },
     "execution_count": 4,
     "metadata": {},
     "output_type": "execute_result"
    }
   ],
   "source": [
    "import numpy as np\n",
    "from PIL import Image\n",
    "import cv2\n",
    "\n",
    "# image = Image.open(r'SV4M.jpg')\n",
    "\n",
    "image = cv2.imread(r'SV4M.jpg' , 0)\n",
    "\n",
    "\n",
    "# img = np.array(image , dtype = np.uint8)\n",
    "# g_img = img\n",
    "# w , h = image.size\n",
    "\n",
    "# print(w , h)\n",
    "\n",
    "# for j in range(0 , 467):\n",
    "#     for i in range(0 , 13680):\n",
    "        \n",
    "#         g_img[j][i][0] = (img[j][i][0] + img[j][i][1] + img[j][i][2]) / 3\n",
    "        \n",
    "        \n",
    "cv2.imwrite('a.jpg' , image)\n"
   ]
  },
  {
   "cell_type": "code",
   "execution_count": 4,
   "metadata": {},
   "outputs": [
    {
     "name": "stdout",
     "output_type": "stream",
     "text": [
      "(315, 13680)\n"
     ]
    }
   ],
   "source": [
    "import numpy as np\n",
    "from PIL import Image\n",
    "import cv2\n",
    "\n",
    "image = Image.open(r'b.jpg')\n",
    "\n",
    "\n",
    "img = np.array(image , dtype = np.uint8)\n",
    "\n",
    "print(image.size)\n",
    "\n",
    "# im = Image.fromarray(img)\n",
    "\n",
    "# im.save('c.jpg')\n",
    "31 * 31\n",
    "rar = np.zeros([])\n",
    "\n",
    "for i in range(1 , 304):\n",
    "    for j in range(1 , 6):\n",
    "        \n",
    "        h = j * 45\n",
    "        k = i * 45\n",
    "        for x1 in range(-15 , 15):\n",
    "            for x2 in range(-15 , 15):\n",
    "        img[h][k]\n"
   ]
  },
  {
   "cell_type": "code",
   "execution_count": 27,
   "metadata": {},
   "outputs": [
    {
     "name": "stdout",
     "output_type": "stream",
     "text": [
      "255\n"
     ]
    }
   ],
   "source": [
    "import numpy as np\n",
    "from PIL import Image\n",
    "import cv2\n",
    "\n",
    "image = Image.open(r'a.jpg')\n",
    "\n",
    "new_img = image.crop((30 , 0 , 345 , 13680))\n",
    "\n",
    "img = np.array(image , dtype = np.uint8)\n",
    "\n",
    "new_img.save('b.jpg')\n",
    "\n",
    "print(img[0][0])\n",
    "\n",
    "# for j in range(0 , 50):\n",
    "#     for i in range(0 , 465):\n",
    "        \n",
    "#         print(img[j][i])"
   ]
  }
 ],
 "metadata": {
  "kernelspec": {
   "display_name": "Python 3",
   "language": "python",
   "name": "python3"
  },
  "language_info": {
   "codemirror_mode": {
    "name": "ipython",
    "version": 3
   },
   "file_extension": ".py",
   "mimetype": "text/x-python",
   "name": "python",
   "nbconvert_exporter": "python",
   "pygments_lexer": "ipython3",
   "version": "3.6.2"
  }
 },
 "nbformat": 4,
 "nbformat_minor": 2
}
