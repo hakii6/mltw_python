{
 "cells": [
  {
   "cell_type": "code",
   "execution_count": null,
   "metadata": {},
   "outputs": [],
   "source": [
    "combine = []\n",
    "\n",
    "for i in range(0 , 10000):\n",
    "    combine.append([0 , 0 , 0 , 0 , 0])\n",
    "    \n",
    "\n",
    "\n",
    "\n",
    "\n",
    "\n",
    "for E in range(20 , -1 , -1):\n",
    "    for D in range(20 , -1 , -1):\n",
    "        for C in range(20 , -1 , -1):\n",
    "            for B in range(20 , -1 , -1):\n",
    "                for A in range(20 , -1 , -1):\n",
    "\n",
    "                    total =35 * A + 49 * B + 62 * C + 64 * D + 85 * E\n",
    "                    if( combine[total] == [0 , 0 , 0 , 0 , 0] ):\n",
    "                        combine[total] = [A , B , C , D , E]\n",
    "                        \n",
    "                        \n",
    "                        \n",
    "for i in range(0 , 1500):\n",
    "    if combine[i] == [0 , 0 , 0 , 0 , 0]:\n",
    "        print(i)\n",
    "    else:\n",
    "        print(combine[i] , i)\n"
   ]
  }
 ],
 "metadata": {
  "kernelspec": {
   "display_name": "Python 3",
   "language": "python",
   "name": "python3"
  },
  "language_info": {
   "codemirror_mode": {
    "name": "ipython",
    "version": 3
   },
   "file_extension": ".py",
   "mimetype": "text/x-python",
   "name": "python",
   "nbconvert_exporter": "python",
   "pygments_lexer": "ipython3",
   "version": "3.7.6"
  }
 },
 "nbformat": 4,
 "nbformat_minor": 4
}
