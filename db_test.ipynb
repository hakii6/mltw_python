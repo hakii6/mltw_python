{
 "cells": [
  {
   "cell_type": "code",
   "execution_count": null,
   "metadata": {
    "collapsed": true
   },
   "outputs": [],
   "source": [
    "import MySQLdb\n",
    "import cv2\n",
    "\n",
    "connection = MySQLdb.connect(host = \"127.0.0.1\" , user = \"root\" , db = 'test' , charset = 'utf8') \n",
    "\n",
    "cursor = connection.cursor()\n",
    "\n",
    "\n",
    "\n",
    "a = ['天海春香' , '艾米莉·斯圖亞特' , '春日未來' , '我那霸響' , '菊地真' , '高坂海美' , '佐竹美奈子' , '高山紗代子' , '田中琴葉' , '德川茉莉' , '中谷育' , '七尾百合子' , '萩原雪步' , '福田法子' ,'松田亞里沙' , '矢吹可奈' , '橫山奈緒']\n",
    "b = ['秋月律子' , '如月千早' , '北澤志保' , '四條貴音' , '茱莉亞' , '白石紬' , '周防桃子' ,'天空橋朋花' , '所惠美' , '永吉昴' , '二階堂千鶴' , 'Roco' , '舞濱步' , '真壁瑞希' , '水瀨伊織' , '最上靜香' , '百瀨莉緒']\n",
    "c = ['伊吹翼' , '大神環' ,'北上麗花' , '木下日向' , '櫻守歌織' , '篠宮可憐' , '島原埃琳娜' , '高槻彌生' , '箱崎星梨花' , '豐川風花' , '野野原茜' , '馬場木實' , '雙海亞美' , '雙海真美' , '三浦梓' , '星井美希' ,'宮尾美也' , '望月杏奈']\n",
    "team = ['Princess' , 'Fairy' , 'Angel']\n",
    "t = ['pr' , 'fr' , 'ag']\n",
    "\n",
    "count = 0\n",
    "q = cursor.execute('INSERT INTO `test`.`idols` (`ID` , `name` , `team` , `url`) VALUES (%s , %s , %s , %s)' , ('ID' , 'name' , 'team' , 'url'))\n",
    "\n",
    "for i in range(1 , 19):\n",
    "    for j in range(0 , 3):\n",
    "\n",
    "        if i == 18 and j != 2:\n",
    "            \n",
    "            continue\n",
    "        \n",
    "        k = i - 1\n",
    "        if j == 0:\n",
    "            ref = a[k]\n",
    "        elif j == 1:\n",
    "            ref = b[k]\n",
    "        else:\n",
    "            ref = c[k]\n",
    "            \n",
    "        k = str(i)\n",
    "                        \n",
    "        if i < 10:\n",
    "            ID = t[j] + '0' + k\n",
    "        else:\n",
    "            ID = t[j] + k\n",
    "        \n",
    "        url = 'https://hakiii.wixsite.com/mltd-tw-wiki/' + ID\n",
    "        q = cursor.execute('INSERT INTO `test`.`idols` (`ID` , `name` , `team` , `url`) VALUES (%s , %s , %s , %s)' , (ID , ref , team[j] , url))\n",
    "\n",
    "\n",
    "\n",
    "\n",
    "\n",
    "\n",
    "\n",
    "\n",
    "\n",
    "\n",
    "connection.commit()\n",
    "\n",
    "cursor.close()\n",
    "connection.close()\n",
    "print('s')"
   ]
  }
 ],
 "metadata": {
  "kernelspec": {
   "display_name": "Python 3",
   "language": "python",
   "name": "python3"
  },
  "language_info": {
   "codemirror_mode": {
    "name": "ipython",
    "version": 3
   },
   "file_extension": ".py",
   "mimetype": "text/x-python",
   "name": "python",
   "nbconvert_exporter": "python",
   "pygments_lexer": "ipython3",
   "version": "3.6.2"
  }
 },
 "nbformat": 4,
 "nbformat_minor": 2
}
